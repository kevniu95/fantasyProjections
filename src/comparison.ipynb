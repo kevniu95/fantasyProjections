{
 "cells": [
  {
   "cell_type": "code",
   "execution_count": 2,
   "metadata": {},
   "outputs": [],
   "source": [
    "import re\n",
    "import pickle\n",
    "import requests\n",
    "from datetime import datetime\n",
    "from bs4 import BeautifulSoup\n",
    "import pandas as pd"
   ]
  },
  {
   "cell_type": "markdown",
   "metadata": {},
   "source": [
    "### 1. Get Current Fantasy Points"
   ]
  },
  {
   "cell_type": "code",
   "execution_count": 3,
   "metadata": {},
   "outputs": [
    {
     "data": {
      "text/html": [
       "<div>\n",
       "<style scoped>\n",
       "    .dataframe tbody tr th:only-of-type {\n",
       "        vertical-align: middle;\n",
       "    }\n",
       "\n",
       "    .dataframe tbody tr th {\n",
       "        vertical-align: top;\n",
       "    }\n",
       "\n",
       "    .dataframe thead th {\n",
       "        text-align: right;\n",
       "    }\n",
       "</style>\n",
       "<table border=\"1\" class=\"dataframe\">\n",
       "  <thead>\n",
       "    <tr style=\"text-align: right;\">\n",
       "      <th></th>\n",
       "      <th>Player</th>\n",
       "      <th>Tm</th>\n",
       "      <th>FantPos</th>\n",
       "      <th>G</th>\n",
       "      <th>PPR</th>\n",
       "    </tr>\n",
       "  </thead>\n",
       "  <tbody>\n",
       "    <tr>\n",
       "      <th>0</th>\n",
       "      <td>Lamar Jackson</td>\n",
       "      <td>BAL</td>\n",
       "      <td>QB</td>\n",
       "      <td>4</td>\n",
       "      <td>115.3</td>\n",
       "    </tr>\n",
       "    <tr>\n",
       "      <th>1</th>\n",
       "      <td>Josh Allen</td>\n",
       "      <td>BUF</td>\n",
       "      <td>QB</td>\n",
       "      <td>4</td>\n",
       "      <td>111.4</td>\n",
       "    </tr>\n",
       "    <tr>\n",
       "      <th>2</th>\n",
       "      <td>Nick Chubb</td>\n",
       "      <td>CLE</td>\n",
       "      <td>RB</td>\n",
       "      <td>4</td>\n",
       "      <td>85.6</td>\n",
       "    </tr>\n",
       "    <tr>\n",
       "      <th>3</th>\n",
       "      <td>Jalen Hurts</td>\n",
       "      <td>PHI</td>\n",
       "      <td>QB</td>\n",
       "      <td>4</td>\n",
       "      <td>101.3</td>\n",
       "    </tr>\n",
       "    <tr>\n",
       "      <th>4</th>\n",
       "      <td>Saquon Barkley</td>\n",
       "      <td>NYG</td>\n",
       "      <td>RB</td>\n",
       "      <td>4</td>\n",
       "      <td>86.0</td>\n",
       "    </tr>\n",
       "    <tr>\n",
       "      <th>...</th>\n",
       "      <td>...</td>\n",
       "      <td>...</td>\n",
       "      <td>...</td>\n",
       "      <td>...</td>\n",
       "      <td>...</td>\n",
       "    </tr>\n",
       "    <tr>\n",
       "      <th>276</th>\n",
       "      <td>Jonnu Smith</td>\n",
       "      <td>NWE</td>\n",
       "      <td>TE</td>\n",
       "      <td>4</td>\n",
       "      <td>12.8</td>\n",
       "    </tr>\n",
       "    <tr>\n",
       "      <th>289</th>\n",
       "      <td>George Kittle</td>\n",
       "      <td>SFO</td>\n",
       "      <td>TE</td>\n",
       "      <td>2</td>\n",
       "      <td>11.2</td>\n",
       "    </tr>\n",
       "    <tr>\n",
       "      <th>290</th>\n",
       "      <td>Isaiah Likely</td>\n",
       "      <td>BAL</td>\n",
       "      <td>TE</td>\n",
       "      <td>4</td>\n",
       "      <td>10.1</td>\n",
       "    </tr>\n",
       "    <tr>\n",
       "      <th>293</th>\n",
       "      <td>Albert Okwuegbunam</td>\n",
       "      <td>DEN</td>\n",
       "      <td>TE</td>\n",
       "      <td>4</td>\n",
       "      <td>10.5</td>\n",
       "    </tr>\n",
       "    <tr>\n",
       "      <th>332</th>\n",
       "      <td>Kyle Philips</td>\n",
       "      <td>TEN</td>\n",
       "      <td>WR</td>\n",
       "      <td>3</td>\n",
       "      <td>10.1</td>\n",
       "    </tr>\n",
       "  </tbody>\n",
       "</table>\n",
       "<p>267 rows × 5 columns</p>\n",
       "</div>"
      ],
      "text/plain": [
       "                 Player   Tm FantPos  G    PPR\n",
       "0         Lamar Jackson  BAL      QB  4  115.3\n",
       "1            Josh Allen  BUF      QB  4  111.4\n",
       "2            Nick Chubb  CLE      RB  4   85.6\n",
       "3           Jalen Hurts  PHI      QB  4  101.3\n",
       "4        Saquon Barkley  NYG      RB  4   86.0\n",
       "..                  ...  ...     ... ..    ...\n",
       "276         Jonnu Smith  NWE      TE  4   12.8\n",
       "289       George Kittle  SFO      TE  2   11.2\n",
       "290       Isaiah Likely  BAL      TE  4   10.1\n",
       "293  Albert Okwuegbunam  DEN      TE  4   10.5\n",
       "332        Kyle Philips  TEN      WR  3   10.1\n",
       "\n",
       "[267 rows x 5 columns]"
      ]
     },
     "execution_count": 3,
     "metadata": {},
     "output_type": "execute_result"
    }
   ],
   "source": [
    "pfr_fantasy_link = \"https://www.pro-football-reference.com/years/2022/fantasy.htm\"\n",
    "\n",
    "def getCurrentFantasyPoints(link):\n",
    "    info_dict = {'born' : None,\n",
    "                    'draft': None,\n",
    "                    'pos' : None}\n",
    "\n",
    "    page = requests.get(link)\n",
    "    if page.status_code == 200:\n",
    "        soup = BeautifulSoup(page.content, 'html.parser')\n",
    "    player_info  = soup.find_all('p')\n",
    "    \n",
    "    table = soup.find_all('table', id = 'fantasy')\n",
    "    df = pd.read_html(str(table), flavor = 'html5lib')[0]\n",
    "    df.columns = df.columns.get_level_values(1)\n",
    "    df = df[df['Player'] != 'Player'].copy()\n",
    "    df['PPR'] = pd.to_numeric(df['PPR'])\n",
    "    df['PPR'].fillna(0, inplace= True)\n",
    "\n",
    "    df.loc[df['Player'].str.contains('Etienne'), 'Player'] = 'Travis Etienne Jr.'\n",
    "    return df[df['PPR'] > 10].copy()\n",
    "\n",
    "currPts = getCurrentFantasyPoints(pfr_fantasy_link)\n",
    "currPts = currPts[['Player','Tm','FantPos','G','PPR']]\n",
    "currPts"
   ]
  },
  {
   "cell_type": "markdown",
   "metadata": {},
   "source": [
    "### 2. Get Projections"
   ]
  },
  {
   "cell_type": "markdown",
   "metadata": {},
   "source": [
    "##### 2a. My Projections"
   ]
  },
  {
   "cell_type": "code",
   "execution_count": 7,
   "metadata": {},
   "outputs": [],
   "source": [
    "with open('../projections/player_proj_2022.p', 'rb') as handle:\n",
    "    proj = pickle.load(handle)\n",
    "proj = proj[['Player','Tm','FantPos','PrvPts_PPR','AverageDraftPositionPPR','Preds','Preds_adp','Prob']]"
   ]
  },
  {
   "cell_type": "markdown",
   "metadata": {},
   "source": [
    "##### 2b. ESPN Projections"
   ]
  },
  {
   "cell_type": "code",
   "execution_count": 8,
   "metadata": {},
   "outputs": [],
   "source": [
    "espn_to_pfr_dict = {'Ari':'ARI',\n",
    "                    'Atl': 'ATL',\n",
    "                    'Bal': 'BAL',\n",
    "                    'Buf': 'BUF',\n",
    "                    'Car': 'CAR',\n",
    "                    'Chi': 'CHI',\n",
    "                    'Cin': 'CIN',\n",
    "                    'Cle': 'CLE',\n",
    "                    'Dal': 'DAL',\n",
    "                    'Den': 'DEN',\n",
    "                    'Det': 'DET',\n",
    "                    'GB': 'GNB',\n",
    "                    'Hou': 'HOU',\n",
    "                    'Ind': 'IND',\n",
    "                    'Jax': 'JAX',\n",
    "                    'KC': 'KAN',\n",
    "                    'LAC': 'LAC',\n",
    "                    'LAR': 'LAR',\n",
    "                    'LV': 'LVR',\n",
    "                    'Mia': 'MIA',\n",
    "                    'Min': 'MIN',\n",
    "                    'NE': 'NWE',\n",
    "                    'NO': 'NOR',\n",
    "                    'NYG': 'NYG',\n",
    "                    'NYJ': 'NYJ',\n",
    "                    'Phi': 'PHI',\n",
    "                    'Pit': 'PIT',\n",
    "                    'Sea': 'SEA',\n",
    "                    'SF': 'SFO',\n",
    "                    'TB': 'TAM',\n",
    "                    'Ten': 'TEN',\n",
    "                    'Wsh': 'WAS'}\n",
    "games_played = {'ARI' : 4,\n",
    " 'ATL' : 4,\n",
    " 'BAL' : 4,\n",
    " 'BUF' : 4,\n",
    " 'CAR' : 4,\n",
    " 'CHI' : 4,\n",
    " 'CIN' : 4,\n",
    " 'CLE' : 4,\n",
    " 'DAL' : 4,\n",
    " 'DEN' : 4,\n",
    " 'DET' : 4,\n",
    " 'GNB' : 4,\n",
    " 'HOU' : 4,\n",
    " 'IND' : 4,\n",
    " 'JAX' : 4,\n",
    " 'KAN' : 4,\n",
    " 'LAC' : 4,\n",
    " 'LAR' : 4,\n",
    " 'LVR' : 4,\n",
    " 'MIA' : 4,\n",
    " 'MIN' : 4,\n",
    " 'NWE' : 4,\n",
    " 'NOR' : 4,\n",
    " 'NYG' : 4,\n",
    " 'NYJ' : 4,\n",
    " 'PHI' : 4,\n",
    " 'PIT' : 4,\n",
    " 'SEA' : 4,\n",
    " 'SFO' : 4,\n",
    " 'TAM' : 4,\n",
    " 'TEN' : 4,\n",
    " 'WAS' : 4}\n"
   ]
  },
  {
   "cell_type": "code",
   "execution_count": 9,
   "metadata": {},
   "outputs": [
    {
     "ename": "FileNotFoundError",
     "evalue": "[Errno 2] No such file or directory: './projections/projections_espn.xlsx'",
     "output_type": "error",
     "traceback": [
      "\u001b[0;31m---------------------------------------------------------------------------\u001b[0m",
      "\u001b[0;31mFileNotFoundError\u001b[0m                         Traceback (most recent call last)",
      "\u001b[1;32m/Users/kniu91/Documents/Kevin's Folders/Grad Schools/UChicago MPCS/Fall 2022/fantasyProjections/src/comparison.ipynb Cell 9\u001b[0m in \u001b[0;36m<cell line: 9>\u001b[0;34m()\u001b[0m\n\u001b[1;32m      <a href='vscode-notebook-cell:/Users/kniu91/Documents/Kevin%27s%20Folders/Grad%20Schools/UChicago%20MPCS/Fall%202022/fantasyProjections/src/comparison.ipynb#X11sZmlsZQ%3D%3D?line=5'>6</a>\u001b[0m     proj_espn[\u001b[39m'\u001b[39m\u001b[39mPoints\u001b[39m\u001b[39m'\u001b[39m]\u001b[39m.\u001b[39mfillna(\u001b[39m0\u001b[39m)\n\u001b[1;32m      <a href='vscode-notebook-cell:/Users/kniu91/Documents/Kevin%27s%20Folders/Grad%20Schools/UChicago%20MPCS/Fall%202022/fantasyProjections/src/comparison.ipynb#X11sZmlsZQ%3D%3D?line=6'>7</a>\u001b[0m     \u001b[39mreturn\u001b[39;00m proj_espn\n\u001b[0;32m----> <a href='vscode-notebook-cell:/Users/kniu91/Documents/Kevin%27s%20Folders/Grad%20Schools/UChicago%20MPCS/Fall%202022/fantasyProjections/src/comparison.ipynb#X11sZmlsZQ%3D%3D?line=8'>9</a>\u001b[0m proj_espn \u001b[39m=\u001b[39m getESPNprojs()\n",
      "\u001b[1;32m/Users/kniu91/Documents/Kevin's Folders/Grad Schools/UChicago MPCS/Fall 2022/fantasyProjections/src/comparison.ipynb Cell 9\u001b[0m in \u001b[0;36mgetESPNprojs\u001b[0;34m(link)\u001b[0m\n\u001b[1;32m      <a href='vscode-notebook-cell:/Users/kniu91/Documents/Kevin%27s%20Folders/Grad%20Schools/UChicago%20MPCS/Fall%202022/fantasyProjections/src/comparison.ipynb#X11sZmlsZQ%3D%3D?line=0'>1</a>\u001b[0m \u001b[39mdef\u001b[39;00m \u001b[39mgetESPNprojs\u001b[39m(link \u001b[39m=\u001b[39m \u001b[39m'\u001b[39m\u001b[39m./projections/projections_espn.xlsx\u001b[39m\u001b[39m'\u001b[39m):\n\u001b[0;32m----> <a href='vscode-notebook-cell:/Users/kniu91/Documents/Kevin%27s%20Folders/Grad%20Schools/UChicago%20MPCS/Fall%202022/fantasyProjections/src/comparison.ipynb#X11sZmlsZQ%3D%3D?line=1'>2</a>\u001b[0m     proj_espn \u001b[39m=\u001b[39m pd\u001b[39m.\u001b[39;49mread_excel(link, sheet_name \u001b[39m=\u001b[39;49m \u001b[39m'\u001b[39;49m\u001b[39mprojections\u001b[39;49m\u001b[39m'\u001b[39;49m, usecols \u001b[39m=\u001b[39;49m \u001b[39m\"\u001b[39;49m\u001b[39mA:E\u001b[39;49m\u001b[39m\"\u001b[39;49m)\n\u001b[1;32m      <a href='vscode-notebook-cell:/Users/kniu91/Documents/Kevin%27s%20Folders/Grad%20Schools/UChicago%20MPCS/Fall%202022/fantasyProjections/src/comparison.ipynb#X11sZmlsZQ%3D%3D?line=2'>3</a>\u001b[0m     proj_espn[\u001b[39m'\u001b[39m\u001b[39mTm\u001b[39m\u001b[39m'\u001b[39m] \u001b[39m=\u001b[39m proj_espn[\u001b[39m'\u001b[39m\u001b[39mTm\u001b[39m\u001b[39m'\u001b[39m]\u001b[39m.\u001b[39mreplace(espn_to_pfr_dict)\n\u001b[1;32m      <a href='vscode-notebook-cell:/Users/kniu91/Documents/Kevin%27s%20Folders/Grad%20Schools/UChicago%20MPCS/Fall%202022/fantasyProjections/src/comparison.ipynb#X11sZmlsZQ%3D%3D?line=3'>4</a>\u001b[0m     proj_espn\u001b[39m.\u001b[39mdrop(\u001b[39m'\u001b[39m\u001b[39mTeamPosition\u001b[39m\u001b[39m'\u001b[39m, axis \u001b[39m=\u001b[39m \u001b[39m1\u001b[39m, inplace \u001b[39m=\u001b[39m \u001b[39mTrue\u001b[39;00m)\n",
      "File \u001b[0;32m~/opt/anaconda3/envs/nlp_new2/lib/python3.10/site-packages/pandas/util/_decorators.py:211\u001b[0m, in \u001b[0;36mdeprecate_kwarg.<locals>._deprecate_kwarg.<locals>.wrapper\u001b[0;34m(*args, **kwargs)\u001b[0m\n\u001b[1;32m    209\u001b[0m     \u001b[39melse\u001b[39;00m:\n\u001b[1;32m    210\u001b[0m         kwargs[new_arg_name] \u001b[39m=\u001b[39m new_arg_value\n\u001b[0;32m--> 211\u001b[0m \u001b[39mreturn\u001b[39;00m func(\u001b[39m*\u001b[39;49margs, \u001b[39m*\u001b[39;49m\u001b[39m*\u001b[39;49mkwargs)\n",
      "File \u001b[0;32m~/opt/anaconda3/envs/nlp_new2/lib/python3.10/site-packages/pandas/util/_decorators.py:317\u001b[0m, in \u001b[0;36mdeprecate_nonkeyword_arguments.<locals>.decorate.<locals>.wrapper\u001b[0;34m(*args, **kwargs)\u001b[0m\n\u001b[1;32m    311\u001b[0m \u001b[39mif\u001b[39;00m \u001b[39mlen\u001b[39m(args) \u001b[39m>\u001b[39m num_allow_args:\n\u001b[1;32m    312\u001b[0m     warnings\u001b[39m.\u001b[39mwarn(\n\u001b[1;32m    313\u001b[0m         msg\u001b[39m.\u001b[39mformat(arguments\u001b[39m=\u001b[39marguments),\n\u001b[1;32m    314\u001b[0m         \u001b[39mFutureWarning\u001b[39;00m,\n\u001b[1;32m    315\u001b[0m         stacklevel\u001b[39m=\u001b[39mfind_stack_level(inspect\u001b[39m.\u001b[39mcurrentframe()),\n\u001b[1;32m    316\u001b[0m     )\n\u001b[0;32m--> 317\u001b[0m \u001b[39mreturn\u001b[39;00m func(\u001b[39m*\u001b[39;49margs, \u001b[39m*\u001b[39;49m\u001b[39m*\u001b[39;49mkwargs)\n",
      "File \u001b[0;32m~/opt/anaconda3/envs/nlp_new2/lib/python3.10/site-packages/pandas/io/excel/_base.py:483\u001b[0m, in \u001b[0;36mread_excel\u001b[0;34m(io, sheet_name, header, names, index_col, usecols, squeeze, dtype, engine, converters, true_values, false_values, skiprows, nrows, na_values, keep_default_na, na_filter, verbose, parse_dates, date_parser, thousands, decimal, comment, skipfooter, convert_float, mangle_dupe_cols, storage_options)\u001b[0m\n\u001b[1;32m    481\u001b[0m \u001b[39mif\u001b[39;00m \u001b[39mnot\u001b[39;00m \u001b[39misinstance\u001b[39m(io, ExcelFile):\n\u001b[1;32m    482\u001b[0m     should_close \u001b[39m=\u001b[39m \u001b[39mTrue\u001b[39;00m\n\u001b[0;32m--> 483\u001b[0m     io \u001b[39m=\u001b[39m ExcelFile(io, storage_options\u001b[39m=\u001b[39;49mstorage_options, engine\u001b[39m=\u001b[39;49mengine)\n\u001b[1;32m    484\u001b[0m \u001b[39melif\u001b[39;00m engine \u001b[39mand\u001b[39;00m engine \u001b[39m!=\u001b[39m io\u001b[39m.\u001b[39mengine:\n\u001b[1;32m    485\u001b[0m     \u001b[39mraise\u001b[39;00m \u001b[39mValueError\u001b[39;00m(\n\u001b[1;32m    486\u001b[0m         \u001b[39m\"\u001b[39m\u001b[39mEngine should not be specified when passing \u001b[39m\u001b[39m\"\u001b[39m\n\u001b[1;32m    487\u001b[0m         \u001b[39m\"\u001b[39m\u001b[39man ExcelFile - ExcelFile already has the engine set\u001b[39m\u001b[39m\"\u001b[39m\n\u001b[1;32m    488\u001b[0m     )\n",
      "File \u001b[0;32m~/opt/anaconda3/envs/nlp_new2/lib/python3.10/site-packages/pandas/io/excel/_base.py:1629\u001b[0m, in \u001b[0;36mExcelFile.__init__\u001b[0;34m(self, path_or_buffer, engine, storage_options)\u001b[0m\n\u001b[1;32m   1627\u001b[0m     ext \u001b[39m=\u001b[39m \u001b[39m\"\u001b[39m\u001b[39mxls\u001b[39m\u001b[39m\"\u001b[39m\n\u001b[1;32m   1628\u001b[0m \u001b[39melse\u001b[39;00m:\n\u001b[0;32m-> 1629\u001b[0m     ext \u001b[39m=\u001b[39m inspect_excel_format(\n\u001b[1;32m   1630\u001b[0m         content_or_path\u001b[39m=\u001b[39;49mpath_or_buffer, storage_options\u001b[39m=\u001b[39;49mstorage_options\n\u001b[1;32m   1631\u001b[0m     )\n\u001b[1;32m   1632\u001b[0m     \u001b[39mif\u001b[39;00m ext \u001b[39mis\u001b[39;00m \u001b[39mNone\u001b[39;00m:\n\u001b[1;32m   1633\u001b[0m         \u001b[39mraise\u001b[39;00m \u001b[39mValueError\u001b[39;00m(\n\u001b[1;32m   1634\u001b[0m             \u001b[39m\"\u001b[39m\u001b[39mExcel file format cannot be determined, you must specify \u001b[39m\u001b[39m\"\u001b[39m\n\u001b[1;32m   1635\u001b[0m             \u001b[39m\"\u001b[39m\u001b[39man engine manually.\u001b[39m\u001b[39m\"\u001b[39m\n\u001b[1;32m   1636\u001b[0m         )\n",
      "File \u001b[0;32m~/opt/anaconda3/envs/nlp_new2/lib/python3.10/site-packages/pandas/io/excel/_base.py:1502\u001b[0m, in \u001b[0;36minspect_excel_format\u001b[0;34m(content_or_path, storage_options)\u001b[0m\n\u001b[1;32m   1499\u001b[0m \u001b[39mif\u001b[39;00m \u001b[39misinstance\u001b[39m(content_or_path, \u001b[39mbytes\u001b[39m):\n\u001b[1;32m   1500\u001b[0m     content_or_path \u001b[39m=\u001b[39m BytesIO(content_or_path)\n\u001b[0;32m-> 1502\u001b[0m \u001b[39mwith\u001b[39;00m get_handle(\n\u001b[1;32m   1503\u001b[0m     content_or_path, \u001b[39m\"\u001b[39;49m\u001b[39mrb\u001b[39;49m\u001b[39m\"\u001b[39;49m, storage_options\u001b[39m=\u001b[39;49mstorage_options, is_text\u001b[39m=\u001b[39;49m\u001b[39mFalse\u001b[39;49;00m\n\u001b[1;32m   1504\u001b[0m ) \u001b[39mas\u001b[39;00m handle:\n\u001b[1;32m   1505\u001b[0m     stream \u001b[39m=\u001b[39m handle\u001b[39m.\u001b[39mhandle\n\u001b[1;32m   1506\u001b[0m     stream\u001b[39m.\u001b[39mseek(\u001b[39m0\u001b[39m)\n",
      "File \u001b[0;32m~/opt/anaconda3/envs/nlp_new2/lib/python3.10/site-packages/pandas/io/common.py:866\u001b[0m, in \u001b[0;36mget_handle\u001b[0;34m(path_or_buf, mode, encoding, compression, memory_map, is_text, errors, storage_options)\u001b[0m\n\u001b[1;32m    857\u001b[0m         handle \u001b[39m=\u001b[39m \u001b[39mopen\u001b[39m(\n\u001b[1;32m    858\u001b[0m             handle,\n\u001b[1;32m    859\u001b[0m             ioargs\u001b[39m.\u001b[39mmode,\n\u001b[0;32m   (...)\u001b[0m\n\u001b[1;32m    862\u001b[0m             newline\u001b[39m=\u001b[39m\u001b[39m\"\u001b[39m\u001b[39m\"\u001b[39m,\n\u001b[1;32m    863\u001b[0m         )\n\u001b[1;32m    864\u001b[0m     \u001b[39melse\u001b[39;00m:\n\u001b[1;32m    865\u001b[0m         \u001b[39m# Binary mode\u001b[39;00m\n\u001b[0;32m--> 866\u001b[0m         handle \u001b[39m=\u001b[39m \u001b[39mopen\u001b[39;49m(handle, ioargs\u001b[39m.\u001b[39;49mmode)\n\u001b[1;32m    867\u001b[0m     handles\u001b[39m.\u001b[39mappend(handle)\n\u001b[1;32m    869\u001b[0m \u001b[39m# Convert BytesIO or file objects passed with an encoding\u001b[39;00m\n",
      "\u001b[0;31mFileNotFoundError\u001b[0m: [Errno 2] No such file or directory: './projections/projections_espn.xlsx'"
     ]
    }
   ],
   "source": [
    "def getESPNprojs(link = '../projections/projections_espn.xlsx'):\n",
    "    proj_espn = pd.read_excel(link, sheet_name = 'projections', usecols = \"A:E\")\n",
    "    proj_espn['Tm'] = proj_espn['Tm'].replace(espn_to_pfr_dict)\n",
    "    proj_espn.drop('TeamPosition', axis = 1, inplace = True)\n",
    "    proj_espn['Points'] = pd.to_numeric(proj_espn['Points'], errors = 'coerce')\n",
    "    proj_espn['Points'].fillna(0)\n",
    "    return proj_espn\n",
    "\n",
    "proj_espn = getESPNprojs()"
   ]
  },
  {
   "cell_type": "code",
   "execution_count": 10,
   "metadata": {},
   "outputs": [
    {
     "name": "stdout",
     "output_type": "stream",
     "text": [
      "              Player   Tm FantPos  G   PPR  PrvPts_PPR  \\\n",
      "99       Jeff Wilson  SFO      RB  4  42.3         NaN   \n",
      "136      Josh Palmer  LAC      WR  4  36.3         NaN   \n",
      "76       Taysom Hill  NOR      TE  3  24.8         NaN   \n",
      "196   Zander Horvath  LAC      RB  4  15.9         NaN   \n",
      "193     Jody Fortson  KAN      TE  4  15.1         NaN   \n",
      "197    Kyle Juszczyk  SFO      RB  4  14.9         NaN   \n",
      "228   Reggie Gilliam  BUF      RB  4  13.9         NaN   \n",
      "198  Latavius Murray  NOR      RB  1  13.5         NaN   \n",
      "261      David Sills  NYG      WR  4  12.2         NaN   \n",
      "206    Caleb Huntley  ATL      RB  2  11.9         NaN   \n",
      "248    Jaylen Warren  PIT      RB  4  10.7         NaN   \n",
      "\n",
      "     AverageDraftPositionPPR  Preds  Preds_adp  Prob     _merge  \n",
      "99                       NaN    NaN        NaN   NaN  left_only  \n",
      "136                      NaN    NaN        NaN   NaN  left_only  \n",
      "76                       NaN    NaN        NaN   NaN  left_only  \n",
      "196                      NaN    NaN        NaN   NaN  left_only  \n",
      "193                      NaN    NaN        NaN   NaN  left_only  \n",
      "197                      NaN    NaN        NaN   NaN  left_only  \n",
      "228                      NaN    NaN        NaN   NaN  left_only  \n",
      "198                      NaN    NaN        NaN   NaN  left_only  \n",
      "261                      NaN    NaN        NaN   NaN  left_only  \n",
      "206                      NaN    NaN        NaN   NaN  left_only  \n",
      "248                      NaN    NaN        NaN   NaN  left_only  \n"
     ]
    },
    {
     "ename": "NameError",
     "evalue": "name 'proj_espn' is not defined",
     "output_type": "error",
     "traceback": [
      "\u001b[0;31m---------------------------------------------------------------------------\u001b[0m",
      "\u001b[0;31mNameError\u001b[0m                                 Traceback (most recent call last)",
      "\u001b[1;32m/Users/kniu91/Documents/Kevin's Folders/Grad Schools/UChicago MPCS/Fall 2022/fantasyProjections/src/comparison.ipynb Cell 10\u001b[0m in \u001b[0;36m<cell line: 5>\u001b[0;34m()\u001b[0m\n\u001b[1;32m      <a href='vscode-notebook-cell:/Users/kniu91/Documents/Kevin%27s%20Folders/Grad%20Schools/UChicago%20MPCS/Fall%202022/fantasyProjections/src/comparison.ipynb#X12sZmlsZQ%3D%3D?line=1'>2</a>\u001b[0m \u001b[39mprint\u001b[39m(newPts\u001b[39m.\u001b[39mloc[newPts[\u001b[39m'\u001b[39m\u001b[39m_merge\u001b[39m\u001b[39m'\u001b[39m]\u001b[39m!=\u001b[39m\u001b[39m'\u001b[39m\u001b[39mboth\u001b[39m\u001b[39m'\u001b[39m]\u001b[39m.\u001b[39msort_values(\u001b[39m'\u001b[39m\u001b[39mPPR\u001b[39m\u001b[39m'\u001b[39m,ascending \u001b[39m=\u001b[39m \u001b[39mFalse\u001b[39;00m))\n\u001b[1;32m      <a href='vscode-notebook-cell:/Users/kniu91/Documents/Kevin%27s%20Folders/Grad%20Schools/UChicago%20MPCS/Fall%202022/fantasyProjections/src/comparison.ipynb#X12sZmlsZQ%3D%3D?line=2'>3</a>\u001b[0m newPts\u001b[39m.\u001b[39mloc[newPts[\u001b[39m'\u001b[39m\u001b[39m_merge\u001b[39m\u001b[39m'\u001b[39m]\u001b[39m!=\u001b[39m\u001b[39m'\u001b[39m\u001b[39mboth\u001b[39m\u001b[39m'\u001b[39m, \u001b[39m'\u001b[39m\u001b[39mPreds\u001b[39m\u001b[39m'\u001b[39m] \u001b[39m=\u001b[39m \u001b[39m0\u001b[39m\n\u001b[0;32m----> <a href='vscode-notebook-cell:/Users/kniu91/Documents/Kevin%27s%20Folders/Grad%20Schools/UChicago%20MPCS/Fall%202022/fantasyProjections/src/comparison.ipynb#X12sZmlsZQ%3D%3D?line=4'>5</a>\u001b[0m newerPts \u001b[39m=\u001b[39m newPts\u001b[39m.\u001b[39mmerge(proj_espn, left_on\u001b[39m=\u001b[39m [\u001b[39m'\u001b[39m\u001b[39mPlayer\u001b[39m\u001b[39m'\u001b[39m,\u001b[39m'\u001b[39m\u001b[39mTm\u001b[39m\u001b[39m'\u001b[39m,\u001b[39m'\u001b[39m\u001b[39mFantPos\u001b[39m\u001b[39m'\u001b[39m], right_on \u001b[39m=\u001b[39m [\u001b[39m'\u001b[39m\u001b[39mPlayer\u001b[39m\u001b[39m'\u001b[39m,\u001b[39m'\u001b[39m\u001b[39mTm\u001b[39m\u001b[39m'\u001b[39m,\u001b[39m'\u001b[39m\u001b[39mPosition\u001b[39m\u001b[39m'\u001b[39m],  how\u001b[39m=\u001b[39m\u001b[39m'\u001b[39m\u001b[39mleft\u001b[39m\u001b[39m'\u001b[39m, indicator \u001b[39m=\u001b[39m \u001b[39m'\u001b[39m\u001b[39mespn\u001b[39m\u001b[39m'\u001b[39m)\n\u001b[1;32m      <a href='vscode-notebook-cell:/Users/kniu91/Documents/Kevin%27s%20Folders/Grad%20Schools/UChicago%20MPCS/Fall%202022/fantasyProjections/src/comparison.ipynb#X12sZmlsZQ%3D%3D?line=5'>6</a>\u001b[0m \u001b[39mprint\u001b[39m(newerPts[\u001b[39m'\u001b[39m\u001b[39mespn\u001b[39m\u001b[39m'\u001b[39m]\u001b[39m.\u001b[39mvalue_counts())\n\u001b[1;32m      <a href='vscode-notebook-cell:/Users/kniu91/Documents/Kevin%27s%20Folders/Grad%20Schools/UChicago%20MPCS/Fall%202022/fantasyProjections/src/comparison.ipynb#X12sZmlsZQ%3D%3D?line=6'>7</a>\u001b[0m newerPts[newerPts[\u001b[39m'\u001b[39m\u001b[39mespn\u001b[39m\u001b[39m'\u001b[39m] \u001b[39m==\u001b[39m \u001b[39m'\u001b[39m\u001b[39mleft_only\u001b[39m\u001b[39m'\u001b[39m]\u001b[39m.\u001b[39msort_values(\u001b[39m'\u001b[39m\u001b[39mPPR\u001b[39m\u001b[39m'\u001b[39m, ascending \u001b[39m=\u001b[39m \u001b[39mFalse\u001b[39;00m)\n",
      "\u001b[0;31mNameError\u001b[0m: name 'proj_espn' is not defined"
     ]
    }
   ],
   "source": [
    "newPts = currPts.merge(proj, on = ['Player', 'Tm', 'FantPos'], how = 'left', indicator = True)\n",
    "print(newPts.loc[newPts['_merge']!='both'].sort_values('PPR',ascending = False))\n",
    "newPts.loc[newPts['_merge']!='both', 'Preds'] = 0\n",
    "\n",
    "newerPts = newPts.merge(proj_espn, left_on= ['Player','Tm','FantPos'], right_on = ['Player','Tm','Position'],  how='left', indicator = 'espn')\n",
    "print(newerPts['espn'].value_counts())\n",
    "newerPts[newerPts['espn'] == 'left_only'].sort_values('PPR', ascending = False)\n",
    "\n",
    "newerPts.loc[newerPts['_merge']!= 'both', 'Preds'] = 10\n",
    "newerPts.loc[newerPts['espn']!= 'both', 'Points'] = 10\n",
    "newerPts\n",
    "\n",
    "newerPts['GP'] = newerPts['Tm'].replace(games_played)\n",
    "newerPts['PPR_adj'] = newerPts['PPR'] * newerPts['GP']\n",
    "# newerPts.to_excel('test.xlsx')"
   ]
  },
  {
   "cell_type": "code",
   "execution_count": 166,
   "metadata": {},
   "outputs": [
    {
     "data": {
      "text/plain": [
       "0"
      ]
     },
     "execution_count": 166,
     "metadata": {},
     "output_type": "execute_result"
    }
   ],
   "source": [
    "newerPts['Points'].isnull().sum()"
   ]
  },
  {
   "cell_type": "code",
   "execution_count": 173,
   "metadata": {},
   "outputs": [
    {
     "name": "stdout",
     "output_type": "stream",
     "text": [
      "0.4422108744797101\n",
      "0.47982314455921005\n"
     ]
    },
    {
     "data": {
      "text/plain": [
       "0      461.2\n",
       "1      445.6\n",
       "2      342.4\n",
       "3      405.2\n",
       "4      344.0\n",
       "       ...  \n",
       "260     48.8\n",
       "261     51.2\n",
       "262     40.4\n",
       "263     42.0\n",
       "264     40.4\n",
       "Name: PPR_adj, Length: 265, dtype: float64"
      ]
     },
     "execution_count": 173,
     "metadata": {},
     "output_type": "execute_result"
    }
   ],
   "source": [
    "from sklearn.metrics import r2_score\n",
    "\n",
    "print(newerPts['Preds'].corr(newerPts['PPR_adj'])**2)\n",
    "print(newerPts['Points'].corr(newerPts['PPR_adj'])**2)\n",
    "\n",
    "newerPts['PPR_adj']"
   ]
  },
  {
   "cell_type": "code",
   "execution_count": null,
   "metadata": {},
   "outputs": [],
   "source": []
  }
 ],
 "metadata": {
  "kernelspec": {
   "display_name": "Python 3.10.4 ('nlp_new2')",
   "language": "python",
   "name": "python3"
  },
  "language_info": {
   "codemirror_mode": {
    "name": "ipython",
    "version": 3
   },
   "file_extension": ".py",
   "mimetype": "text/x-python",
   "name": "python",
   "nbconvert_exporter": "python",
   "pygments_lexer": "ipython3",
   "version": "3.10.4"
  },
  "orig_nbformat": 4,
  "vscode": {
   "interpreter": {
    "hash": "1e08048f17ff008031266911b66a2ac7278627f8d3490a4b4484f3664274d5bf"
   }
  }
 },
 "nbformat": 4,
 "nbformat_minor": 2
}

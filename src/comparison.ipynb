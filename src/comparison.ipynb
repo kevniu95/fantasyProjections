{
 "cells": [
  {
   "cell_type": "code",
   "execution_count": 157,
   "metadata": {},
   "outputs": [],
   "source": [
    "import re\n",
    "import pickle\n",
    "import requests\n",
    "from datetime import datetime\n",
    "from bs4 import BeautifulSoup\n",
    "import pandas as pd"
   ]
  },
  {
   "cell_type": "markdown",
   "metadata": {},
   "source": [
    "### 1. Get Current Fantasy Points"
   ]
  },
  {
   "cell_type": "code",
   "execution_count": 159,
   "metadata": {},
   "outputs": [
    {
     "data": {
      "text/html": [
       "<div>\n",
       "<style scoped>\n",
       "    .dataframe tbody tr th:only-of-type {\n",
       "        vertical-align: middle;\n",
       "    }\n",
       "\n",
       "    .dataframe tbody tr th {\n",
       "        vertical-align: top;\n",
       "    }\n",
       "\n",
       "    .dataframe thead th {\n",
       "        text-align: right;\n",
       "    }\n",
       "</style>\n",
       "<table border=\"1\" class=\"dataframe\">\n",
       "  <thead>\n",
       "    <tr style=\"text-align: right;\">\n",
       "      <th></th>\n",
       "      <th>Player</th>\n",
       "      <th>Tm</th>\n",
       "      <th>FantPos</th>\n",
       "      <th>G</th>\n",
       "      <th>PPR</th>\n",
       "    </tr>\n",
       "  </thead>\n",
       "  <tbody>\n",
       "    <tr>\n",
       "      <th>0</th>\n",
       "      <td>Lamar Jackson</td>\n",
       "      <td>BAL</td>\n",
       "      <td>QB</td>\n",
       "      <td>4</td>\n",
       "      <td>115.3</td>\n",
       "    </tr>\n",
       "    <tr>\n",
       "      <th>1</th>\n",
       "      <td>Josh Allen</td>\n",
       "      <td>BUF</td>\n",
       "      <td>QB</td>\n",
       "      <td>4</td>\n",
       "      <td>111.4</td>\n",
       "    </tr>\n",
       "    <tr>\n",
       "      <th>2</th>\n",
       "      <td>Nick Chubb</td>\n",
       "      <td>CLE</td>\n",
       "      <td>RB</td>\n",
       "      <td>4</td>\n",
       "      <td>85.6</td>\n",
       "    </tr>\n",
       "    <tr>\n",
       "      <th>3</th>\n",
       "      <td>Jalen Hurts</td>\n",
       "      <td>PHI</td>\n",
       "      <td>QB</td>\n",
       "      <td>4</td>\n",
       "      <td>101.3</td>\n",
       "    </tr>\n",
       "    <tr>\n",
       "      <th>4</th>\n",
       "      <td>Saquon Barkley</td>\n",
       "      <td>NYG</td>\n",
       "      <td>RB</td>\n",
       "      <td>4</td>\n",
       "      <td>86.0</td>\n",
       "    </tr>\n",
       "    <tr>\n",
       "      <th>...</th>\n",
       "      <td>...</td>\n",
       "      <td>...</td>\n",
       "      <td>...</td>\n",
       "      <td>...</td>\n",
       "      <td>...</td>\n",
       "    </tr>\n",
       "    <tr>\n",
       "      <th>275</th>\n",
       "      <td>David Sills</td>\n",
       "      <td>NYG</td>\n",
       "      <td>WR</td>\n",
       "      <td>4</td>\n",
       "      <td>12.2</td>\n",
       "    </tr>\n",
       "    <tr>\n",
       "      <th>276</th>\n",
       "      <td>Jonnu Smith</td>\n",
       "      <td>NWE</td>\n",
       "      <td>TE</td>\n",
       "      <td>4</td>\n",
       "      <td>12.8</td>\n",
       "    </tr>\n",
       "    <tr>\n",
       "      <th>289</th>\n",
       "      <td>Isaiah Likely</td>\n",
       "      <td>BAL</td>\n",
       "      <td>TE</td>\n",
       "      <td>4</td>\n",
       "      <td>10.1</td>\n",
       "    </tr>\n",
       "    <tr>\n",
       "      <th>292</th>\n",
       "      <td>Albert Okwuegbunam</td>\n",
       "      <td>DEN</td>\n",
       "      <td>TE</td>\n",
       "      <td>4</td>\n",
       "      <td>10.5</td>\n",
       "    </tr>\n",
       "    <tr>\n",
       "      <th>332</th>\n",
       "      <td>Kyle Philips</td>\n",
       "      <td>TEN</td>\n",
       "      <td>WR</td>\n",
       "      <td>3</td>\n",
       "      <td>10.1</td>\n",
       "    </tr>\n",
       "  </tbody>\n",
       "</table>\n",
       "<p>265 rows × 5 columns</p>\n",
       "</div>"
      ],
      "text/plain": [
       "                 Player   Tm FantPos  G    PPR\n",
       "0         Lamar Jackson  BAL      QB  4  115.3\n",
       "1            Josh Allen  BUF      QB  4  111.4\n",
       "2            Nick Chubb  CLE      RB  4   85.6\n",
       "3           Jalen Hurts  PHI      QB  4  101.3\n",
       "4        Saquon Barkley  NYG      RB  4   86.0\n",
       "..                  ...  ...     ... ..    ...\n",
       "275         David Sills  NYG      WR  4   12.2\n",
       "276         Jonnu Smith  NWE      TE  4   12.8\n",
       "289       Isaiah Likely  BAL      TE  4   10.1\n",
       "292  Albert Okwuegbunam  DEN      TE  4   10.5\n",
       "332        Kyle Philips  TEN      WR  3   10.1\n",
       "\n",
       "[265 rows x 5 columns]"
      ]
     },
     "execution_count": 159,
     "metadata": {},
     "output_type": "execute_result"
    }
   ],
   "source": [
    "pfr_fantasy_link = \"https://www.pro-football-reference.com/years/2022/fantasy.htm\"\n",
    "\n",
    "def getCurrentFantasyPoints(link):\n",
    "    info_dict = {'born' : None,\n",
    "                    'draft': None,\n",
    "                    'pos' : None}\n",
    "\n",
    "    page = requests.get(link)\n",
    "    if page.status_code == 200:\n",
    "        soup = BeautifulSoup(page.content, 'html.parser')\n",
    "    player_info  = soup.find_all('p')\n",
    "    \n",
    "    table = soup.find_all('table', id = 'fantasy')\n",
    "    df = pd.read_html(str(table), flavor = 'html5lib')[0]\n",
    "    df.columns = df.columns.get_level_values(1)\n",
    "    df = df[df['Player'] != 'Player'].copy()\n",
    "    df['PPR'] = pd.to_numeric(df['PPR'])\n",
    "    df['PPR'].fillna(0, inplace= True)\n",
    "\n",
    "    df.loc[df['Player'].str.contains('Etienne'), 'Player'] = 'Travis Etienne Jr.'\n",
    "    return df[df['PPR'] > 10].copy()\n",
    "\n",
    "currPts = getCurrentFantasyPoints(pfr_fantasy_link)\n",
    "currPts = currPts[['Player','Tm','FantPos','G','PPR']]\n",
    "currPts"
   ]
  },
  {
   "cell_type": "markdown",
   "metadata": {},
   "source": [
    "### 2. Get Projections"
   ]
  },
  {
   "cell_type": "markdown",
   "metadata": {},
   "source": [
    "##### 2a. My Projections"
   ]
  },
  {
   "cell_type": "code",
   "execution_count": 160,
   "metadata": {},
   "outputs": [],
   "source": [
    "with open('projections/player_proj_2022.p', 'rb') as handle:\n",
    "    proj = pickle.load(handle)\n",
    "proj = proj[['Player','Tm','FantPos','PrvPts_PPR','AverageDraftPositionPPR','Preds','Prob']]"
   ]
  },
  {
   "cell_type": "markdown",
   "metadata": {},
   "source": [
    "##### 2b. ESPN Projections"
   ]
  },
  {
   "cell_type": "code",
   "execution_count": 162,
   "metadata": {},
   "outputs": [],
   "source": [
    "espn_to_pfr_dict = {'Ari':'ARI',\n",
    "                    'Atl': 'ATL',\n",
    "                    'Bal': 'BAL',\n",
    "                    'Buf': 'BUF',\n",
    "                    'Car': 'CAR',\n",
    "                    'Chi': 'CHI',\n",
    "                    'Cin': 'CIN',\n",
    "                    'Cle': 'CLE',\n",
    "                    'Dal': 'DAL',\n",
    "                    'Den': 'DEN',\n",
    "                    'Det': 'DET',\n",
    "                    'GB': 'GNB',\n",
    "                    'Hou': 'HOU',\n",
    "                    'Ind': 'IND',\n",
    "                    'Jax': 'JAX',\n",
    "                    'KC': 'KAN',\n",
    "                    'LAC': 'LAC',\n",
    "                    'LAR': 'LAR',\n",
    "                    'LV': 'LVR',\n",
    "                    'Mia': 'MIA',\n",
    "                    'Min': 'MIN',\n",
    "                    'NE': 'NWE',\n",
    "                    'NO': 'NOR',\n",
    "                    'NYG': 'NYG',\n",
    "                    'NYJ': 'NYJ',\n",
    "                    'Phi': 'PHI',\n",
    "                    'Pit': 'PIT',\n",
    "                    'Sea': 'SEA',\n",
    "                    'SF': 'SFO',\n",
    "                    'TB': 'TAM',\n",
    "                    'Ten': 'TEN',\n",
    "                    'Wsh': 'WAS'}\n",
    "games_played = {'ARI' : 4,\n",
    " 'ATL' : 4,\n",
    " 'BAL' : 4,\n",
    " 'BUF' : 4,\n",
    " 'CAR' : 4,\n",
    " 'CHI' : 4,\n",
    " 'CIN' : 4,\n",
    " 'CLE' : 4,\n",
    " 'DAL' : 4,\n",
    " 'DEN' : 4,\n",
    " 'DET' : 4,\n",
    " 'GNB' : 4,\n",
    " 'HOU' : 4,\n",
    " 'IND' : 4,\n",
    " 'JAX' : 4,\n",
    " 'KAN' : 4,\n",
    " 'LAC' : 4,\n",
    " 'LAR' : 3,\n",
    " 'LVR' : 4,\n",
    " 'MIA' : 4,\n",
    " 'MIN' : 4,\n",
    " 'NWE' : 4,\n",
    " 'NOR' : 4,\n",
    " 'NYG' : 4,\n",
    " 'NYJ' : 4,\n",
    " 'PHI' : 4,\n",
    " 'PIT' : 4,\n",
    " 'SEA' : 4,\n",
    " 'SFO' : 3,\n",
    " 'TAM' : 4,\n",
    " 'TEN' : 4,\n",
    " 'WAS' : 4}\n"
   ]
  },
  {
   "cell_type": "code",
   "execution_count": 163,
   "metadata": {},
   "outputs": [],
   "source": [
    "def getESPNprojs(link = './projections/projections_espn.xlsx'):\n",
    "    proj_espn = pd.read_excel(link, sheet_name = 'projections', usecols = \"A:E\")\n",
    "    proj_espn['Tm'] = proj_espn['Tm'].replace(espn_to_pfr_dict)\n",
    "    proj_espn.drop('TeamPosition', axis = 1, inplace = True)\n",
    "    proj_espn['Points'] = pd.to_numeric(proj_espn['Points'], errors = 'coerce')\n",
    "    proj_espn['Points'].fillna(0)\n",
    "    return proj_espn\n",
    "\n",
    "proj_espn = getESPNprojs()"
   ]
  },
  {
   "cell_type": "code",
   "execution_count": 172,
   "metadata": {},
   "outputs": [
    {
     "name": "stdout",
     "output_type": "stream",
     "text": [
      "              Player   Tm FantPos  G   PPR  PrvPts_PPR  \\\n",
      "132      Josh Palmer  LAC      WR  4  36.3         NaN   \n",
      "133      Jeff Wilson  SFO      RB  3  28.9         NaN   \n",
      "73       Taysom Hill  NOR      TE  3  24.8         NaN   \n",
      "195   Zander Horvath  LAC      RB  4  15.9         NaN   \n",
      "192     Jody Fortson  KAN      TE  4  15.1         NaN   \n",
      "227   Reggie Gilliam  BUF      RB  4  13.9         NaN   \n",
      "196  Latavius Murray  NOR      RB  1  13.5         NaN   \n",
      "260      David Sills  NYG      WR  4  12.2         NaN   \n",
      "204    Caleb Huntley  ATL      RB  2  11.9         NaN   \n",
      "246    Jaylen Warren  PIT      RB  4  10.7         NaN   \n",
      "\n",
      "     AverageDraftPositionPPR  Preds  Prob     _merge  \n",
      "132                      NaN    NaN   NaN  left_only  \n",
      "133                      NaN    NaN   NaN  left_only  \n",
      "73                       NaN    NaN   NaN  left_only  \n",
      "195                      NaN    NaN   NaN  left_only  \n",
      "192                      NaN    NaN   NaN  left_only  \n",
      "227                      NaN    NaN   NaN  left_only  \n",
      "196                      NaN    NaN   NaN  left_only  \n",
      "260                      NaN    NaN   NaN  left_only  \n",
      "204                      NaN    NaN   NaN  left_only  \n",
      "246                      NaN    NaN   NaN  left_only  \n",
      "both          244\n",
      "left_only      21\n",
      "right_only      0\n",
      "Name: espn, dtype: int64\n"
     ]
    }
   ],
   "source": [
    "newPts = currPts.merge(proj, on = ['Player', 'Tm', 'FantPos'], how = 'left', indicator = True)\n",
    "print(newPts.loc[newPts['_merge']!='both'].sort_values('PPR',ascending = False))\n",
    "newPts.loc[newPts['_merge']!='both', 'Preds'] = 0\n",
    "\n",
    "newerPts = newPts.merge(proj_espn, left_on= ['Player','Tm','FantPos'], right_on = ['Player','Tm','Position'],  how='left', indicator = 'espn')\n",
    "print(newerPts['espn'].value_counts())\n",
    "newerPts[newerPts['espn'] == 'left_only'].sort_values('PPR', ascending = False)\n",
    "\n",
    "newerPts.loc[newerPts['_merge']!= 'both', 'Preds'] = 10\n",
    "newerPts.loc[newerPts['espn']!= 'both', 'Points'] = 10\n",
    "newerPts\n",
    "\n",
    "newerPts['GP'] = newerPts['Tm'].replace(games_played)\n",
    "newerPts['PPR_adj'] = newerPts['PPR'] * newerPts['GP']\n",
    "newerPts.to_excel('test.xlsx')"
   ]
  },
  {
   "cell_type": "code",
   "execution_count": 166,
   "metadata": {},
   "outputs": [
    {
     "data": {
      "text/plain": [
       "0"
      ]
     },
     "execution_count": 166,
     "metadata": {},
     "output_type": "execute_result"
    }
   ],
   "source": [
    "newerPts['Points'].isnull().sum()"
   ]
  },
  {
   "cell_type": "code",
   "execution_count": 173,
   "metadata": {},
   "outputs": [
    {
     "name": "stdout",
     "output_type": "stream",
     "text": [
      "0.4422108744797101\n",
      "0.47982314455921005\n"
     ]
    },
    {
     "data": {
      "text/plain": [
       "0      461.2\n",
       "1      445.6\n",
       "2      342.4\n",
       "3      405.2\n",
       "4      344.0\n",
       "       ...  \n",
       "260     48.8\n",
       "261     51.2\n",
       "262     40.4\n",
       "263     42.0\n",
       "264     40.4\n",
       "Name: PPR_adj, Length: 265, dtype: float64"
      ]
     },
     "execution_count": 173,
     "metadata": {},
     "output_type": "execute_result"
    }
   ],
   "source": [
    "from sklearn.metrics import r2_score\n",
    "\n",
    "print(newerPts['Preds'].corr(newerPts['PPR_adj'])**2)\n",
    "print(newerPts['Points'].corr(newerPts['PPR_adj'])**2)\n",
    "\n",
    "newerPts['PPR_adj']"
   ]
  },
  {
   "cell_type": "code",
   "execution_count": null,
   "metadata": {},
   "outputs": [],
   "source": []
  }
 ],
 "metadata": {
  "kernelspec": {
   "display_name": "Python 3.10.4 ('nlp_new2')",
   "language": "python",
   "name": "python3"
  },
  "language_info": {
   "codemirror_mode": {
    "name": "ipython",
    "version": 3
   },
   "file_extension": ".py",
   "mimetype": "text/x-python",
   "name": "python",
   "nbconvert_exporter": "python",
   "pygments_lexer": "ipython3",
   "version": "3.10.4"
  },
  "orig_nbformat": 4,
  "vscode": {
   "interpreter": {
    "hash": "1e08048f17ff008031266911b66a2ac7278627f8d3490a4b4484f3664274d5bf"
   }
  }
 },
 "nbformat": 4,
 "nbformat_minor": 2
}

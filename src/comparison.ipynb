{
 "cells": [
  {
   "cell_type": "code",
   "execution_count": 2,
   "metadata": {},
   "outputs": [],
   "source": [
    "import re\n",
    "import pickle\n",
    "import requests\n",
    "from datetime import datetime\n",
    "from bs4 import BeautifulSoup\n",
    "import pandas as pd"
   ]
  },
  {
   "cell_type": "markdown",
   "metadata": {},
   "source": [
    "### 1. Get Current Fantasy Points"
   ]
  },
  {
   "cell_type": "code",
   "execution_count": 8,
   "metadata": {},
   "outputs": [
    {
     "data": {
      "text/html": [
       "<div>\n",
       "<style scoped>\n",
       "    .dataframe tbody tr th:only-of-type {\n",
       "        vertical-align: middle;\n",
       "    }\n",
       "\n",
       "    .dataframe tbody tr th {\n",
       "        vertical-align: top;\n",
       "    }\n",
       "\n",
       "    .dataframe thead th {\n",
       "        text-align: right;\n",
       "    }\n",
       "</style>\n",
       "<table border=\"1\" class=\"dataframe\">\n",
       "  <thead>\n",
       "    <tr style=\"text-align: right;\">\n",
       "      <th></th>\n",
       "      <th>Player</th>\n",
       "      <th>Tm</th>\n",
       "      <th>FantPos</th>\n",
       "      <th>G</th>\n",
       "      <th>PPR</th>\n",
       "    </tr>\n",
       "  </thead>\n",
       "  <tbody>\n",
       "    <tr>\n",
       "      <th>0</th>\n",
       "      <td>Josh Allen</td>\n",
       "      <td>BUF</td>\n",
       "      <td>QB</td>\n",
       "      <td>5</td>\n",
       "      <td>146.5</td>\n",
       "    </tr>\n",
       "    <tr>\n",
       "      <th>1</th>\n",
       "      <td>Nick Chubb</td>\n",
       "      <td>CLE</td>\n",
       "      <td>RB</td>\n",
       "      <td>5</td>\n",
       "      <td>111.0</td>\n",
       "    </tr>\n",
       "    <tr>\n",
       "      <th>2</th>\n",
       "      <td>Lamar Jackson</td>\n",
       "      <td>BAL</td>\n",
       "      <td>QB</td>\n",
       "      <td>5</td>\n",
       "      <td>130.1</td>\n",
       "    </tr>\n",
       "    <tr>\n",
       "      <th>3</th>\n",
       "      <td>Jalen Hurts</td>\n",
       "      <td>PHI</td>\n",
       "      <td>QB</td>\n",
       "      <td>5</td>\n",
       "      <td>129.0</td>\n",
       "    </tr>\n",
       "    <tr>\n",
       "      <th>4</th>\n",
       "      <td>Saquon Barkley</td>\n",
       "      <td>NYG</td>\n",
       "      <td>RB</td>\n",
       "      <td>5</td>\n",
       "      <td>105.6</td>\n",
       "    </tr>\n",
       "    <tr>\n",
       "      <th>...</th>\n",
       "      <td>...</td>\n",
       "      <td>...</td>\n",
       "      <td>...</td>\n",
       "      <td>...</td>\n",
       "      <td>...</td>\n",
       "    </tr>\n",
       "    <tr>\n",
       "      <th>304</th>\n",
       "      <td>Jonnu Smith</td>\n",
       "      <td>NWE</td>\n",
       "      <td>TE</td>\n",
       "      <td>4</td>\n",
       "      <td>12.8</td>\n",
       "    </tr>\n",
       "    <tr>\n",
       "      <th>312</th>\n",
       "      <td>David Bell</td>\n",
       "      <td>CLE</td>\n",
       "      <td>WR</td>\n",
       "      <td>5</td>\n",
       "      <td>10.3</td>\n",
       "    </tr>\n",
       "    <tr>\n",
       "      <th>320</th>\n",
       "      <td>Quintin Morris</td>\n",
       "      <td>BUF</td>\n",
       "      <td>TE</td>\n",
       "      <td>4</td>\n",
       "      <td>10.7</td>\n",
       "    </tr>\n",
       "    <tr>\n",
       "      <th>321</th>\n",
       "      <td>Albert Okwuegbunam</td>\n",
       "      <td>DEN</td>\n",
       "      <td>TE</td>\n",
       "      <td>5</td>\n",
       "      <td>12.0</td>\n",
       "    </tr>\n",
       "    <tr>\n",
       "      <th>336</th>\n",
       "      <td>Kyle Philips</td>\n",
       "      <td>TEN</td>\n",
       "      <td>WR</td>\n",
       "      <td>4</td>\n",
       "      <td>11.8</td>\n",
       "    </tr>\n",
       "  </tbody>\n",
       "</table>\n",
       "<p>293 rows × 5 columns</p>\n",
       "</div>"
      ],
      "text/plain": [
       "                 Player   Tm FantPos  G    PPR\n",
       "0            Josh Allen  BUF      QB  5  146.5\n",
       "1            Nick Chubb  CLE      RB  5  111.0\n",
       "2         Lamar Jackson  BAL      QB  5  130.1\n",
       "3           Jalen Hurts  PHI      QB  5  129.0\n",
       "4        Saquon Barkley  NYG      RB  5  105.6\n",
       "..                  ...  ...     ... ..    ...\n",
       "304         Jonnu Smith  NWE      TE  4   12.8\n",
       "312          David Bell  CLE      WR  5   10.3\n",
       "320      Quintin Morris  BUF      TE  4   10.7\n",
       "321  Albert Okwuegbunam  DEN      TE  5   12.0\n",
       "336        Kyle Philips  TEN      WR  4   11.8\n",
       "\n",
       "[293 rows x 5 columns]"
      ]
     },
     "execution_count": 8,
     "metadata": {},
     "output_type": "execute_result"
    }
   ],
   "source": [
    "pfr_fantasy_link = \"https://www.pro-football-reference.com/years/2022/fantasy.htm\"\n",
    "\n",
    "def getCurrentFantasyPoints(link):\n",
    "    info_dict = {'born' : None,\n",
    "                    'draft': None,\n",
    "                    'pos' : None}\n",
    "\n",
    "    page = requests.get(link)\n",
    "    if page.status_code == 200:\n",
    "        soup = BeautifulSoup(page.content, 'html.parser')\n",
    "    player_info  = soup.find_all('p')\n",
    "    \n",
    "    table = soup.find_all('table', id = 'fantasy')\n",
    "    df = pd.read_html(str(table), flavor = 'html5lib')[0]\n",
    "    df.columns = df.columns.get_level_values(1)\n",
    "    df = df[df['Player'] != 'Player'].copy()\n",
    "    df['PPR'] = pd.to_numeric(df['PPR'])\n",
    "    df['PPR'].fillna(0, inplace= True)\n",
    "\n",
    "    df.loc[df['Player'].str.contains('Etienne'), 'Player'] = 'Travis Etienne Jr.'\n",
    "    return df[df['PPR'] > 10].copy()\n",
    "\n",
    "currPts = getCurrentFantasyPoints(pfr_fantasy_link)\n",
    "currPts = currPts[['Player','Tm','FantPos','G','PPR']]\n",
    "currPts"
   ]
  },
  {
   "cell_type": "markdown",
   "metadata": {},
   "source": [
    "### 2. Get Projections"
   ]
  },
  {
   "cell_type": "markdown",
   "metadata": {},
   "source": [
    "##### 2a. My Projections"
   ]
  },
  {
   "cell_type": "code",
   "execution_count": 9,
   "metadata": {},
   "outputs": [],
   "source": [
    "with open('../projections/player_proj_2022.p', 'rb') as handle:\n",
    "    proj = pickle.load(handle)\n",
    "proj = proj[['Player','Tm','FantPos','PrvPts_PPR','AverageDraftPositionPPR','Preds','Preds_adp','Prob']]"
   ]
  },
  {
   "cell_type": "markdown",
   "metadata": {},
   "source": [
    "##### 2b. ESPN Projections"
   ]
  },
  {
   "cell_type": "code",
   "execution_count": 17,
   "metadata": {},
   "outputs": [],
   "source": [
    "espn_to_pfr_dict = {'Ari':'ARI',\n",
    "                    'Atl': 'ATL',\n",
    "                    'Bal': 'BAL',\n",
    "                    'Buf': 'BUF',\n",
    "                    'Car': 'CAR',\n",
    "                    'Chi': 'CHI',\n",
    "                    'Cin': 'CIN',\n",
    "                    'Cle': 'CLE',\n",
    "                    'Dal': 'DAL',\n",
    "                    'Den': 'DEN',\n",
    "                    'Det': 'DET',\n",
    "                    'GB': 'GNB',\n",
    "                    'Hou': 'HOU',\n",
    "                    'Ind': 'IND',\n",
    "                    'Jax': 'JAX',\n",
    "                    'KC': 'KAN',\n",
    "                    'LAC': 'LAC',\n",
    "                    'LAR': 'LAR',\n",
    "                    'LV': 'LVR',\n",
    "                    'Mia': 'MIA',\n",
    "                    'Min': 'MIN',\n",
    "                    'NE': 'NWE',\n",
    "                    'NO': 'NOR',\n",
    "                    'NYG': 'NYG',\n",
    "                    'NYJ': 'NYJ',\n",
    "                    'Phi': 'PHI',\n",
    "                    'Pit': 'PIT',\n",
    "                    'Sea': 'SEA',\n",
    "                    'SF': 'SFO',\n",
    "                    'TB': 'TAM',\n",
    "                    'Ten': 'TEN',\n",
    "                    'Wsh': 'WAS'}\n",
    "\n",
    "games_played = {'ARI' : 5,\n",
    " 'ATL' : 5,\n",
    " 'BAL' : 5,\n",
    " 'BUF' : 5,\n",
    " 'CAR' : 5,\n",
    " 'CHI' : 5,\n",
    " 'CIN' : 5,\n",
    " 'CLE' : 5,\n",
    " 'DAL' : 5,\n",
    " 'DEN' : 5,\n",
    " 'DET' : 5,\n",
    " 'GNB' : 5,\n",
    " 'HOU' : 5,\n",
    " 'IND' : 5,\n",
    " 'JAX' : 5,\n",
    " 'KAN' : 4,\n",
    " 'LAC' : 5,\n",
    " 'LAR' : 5,\n",
    " 'LVR' : 4,\n",
    " 'MIA' : 5,\n",
    " 'MIN' : 5,\n",
    " 'NWE' : 5,\n",
    " 'NOR' : 5,\n",
    " 'NYG' : 5,\n",
    " 'NYJ' : 5,\n",
    " 'PHI' : 5,\n",
    " 'PIT' : 5,\n",
    " 'SEA' : 5,\n",
    " 'SFO' : 5,\n",
    " 'TAM' : 5,\n",
    " 'TEN' : 5,\n",
    " 'WAS' : 5,\n",
    " '2TM' : 5}\n"
   ]
  },
  {
   "cell_type": "code",
   "execution_count": 18,
   "metadata": {},
   "outputs": [],
   "source": [
    "def getESPNprojs(link = '../projections/projections_espn.xlsx'):\n",
    "    proj_espn = pd.read_excel(link, sheet_name = 'projections', usecols = \"A:E\")\n",
    "    proj_espn['Tm'] = proj_espn['Tm'].replace(espn_to_pfr_dict)\n",
    "    proj_espn.drop('TeamPosition', axis = 1, inplace = True)\n",
    "    proj_espn['Points'] = pd.to_numeric(proj_espn['Points'], errors = 'coerce')\n",
    "    proj_espn['Points'].fillna(0)\n",
    "    return proj_espn\n",
    "\n",
    "proj_espn = getESPNprojs()"
   ]
  },
  {
   "cell_type": "code",
   "execution_count": 19,
   "metadata": {},
   "outputs": [],
   "source": [
    "def mergeProjections(currPts, proj, proj_espn):\n",
    "    \"\"\" 1. Merge on my projections \"\"\"\n",
    "    newPts = currPts.merge(proj, on = ['Player', 'Tm', 'FantPos'], how = 'left', indicator = True)\n",
    "    # print(newPts.loc[newPts['_merge']!='both'].sort_values('PPR',ascending = False))\n",
    "    newPts.loc[newPts['_merge']!='both', 'Preds'] = 0\n",
    "\n",
    "    \"\"\" 2. Merge on ESPN projections\"\"\"\n",
    "    newerPts = newPts.merge(proj_espn, left_on= ['Player','Tm','FantPos'], right_on = ['Player','Tm','Position'],  how='left', indicator = 'espn')\n",
    "    # print(newerPts['espn'].value_counts())\n",
    "    newerPts[newerPts['espn'] == 'left_only'].sort_values('PPR', ascending = False)\n",
    "\n",
    "    \"\"\" 3. Mark guys without projections\"\"\"\n",
    "    newerPts.loc[newerPts['_merge']!= 'both', 'Preds'] = 10\n",
    "    newerPts.loc[newerPts['espn']!= 'both', 'Points'] = 10\n",
    "    \n",
    "    \"\"\" 4. Prorate PPR metric so far\"\"\"\n",
    "    newerPts['GP'] = pd.to_numeric(newerPts['Tm'].replace(games_played))\n",
    "    newerPts['PPR_adj'] = newerPts['PPR'] * newerPts['GP']\n",
    "    return newerPts\n",
    "newerPts = mergeProjections(currPts, proj, proj_espn)\n",
    "# newerPts.to_excel('test.xlsx')"
   ]
  },
  {
   "cell_type": "code",
   "execution_count": 20,
   "metadata": {},
   "outputs": [
    {
     "data": {
      "text/plain": [
       "0"
      ]
     },
     "execution_count": 20,
     "metadata": {},
     "output_type": "execute_result"
    }
   ],
   "source": [
    "newerPts['Points'].isnull().sum()"
   ]
  },
  {
   "cell_type": "code",
   "execution_count": 21,
   "metadata": {},
   "outputs": [
    {
     "name": "stdout",
     "output_type": "stream",
     "text": [
      "0.48349501849845966\n",
      "0.4009420015639403\n",
      "0.5035089543816182\n"
     ]
    },
    {
     "data": {
      "text/plain": [
       "0      732.5\n",
       "1      555.0\n",
       "2      650.5\n",
       "3      645.0\n",
       "4      528.0\n",
       "       ...  \n",
       "288     64.0\n",
       "289     51.5\n",
       "290     53.5\n",
       "291     60.0\n",
       "292     59.0\n",
       "Name: PPR_adj, Length: 293, dtype: float64"
      ]
     },
     "execution_count": 21,
     "metadata": {},
     "output_type": "execute_result"
    }
   ],
   "source": [
    "from sklearn.metrics import r2_score\n",
    "\n",
    "print(newerPts['Preds'].corr(newerPts['PPR_adj'])**2)\n",
    "print(newerPts['Preds_adp'].corr(newerPts['PPR_adj'])**2)\n",
    "print(newerPts['Points'].corr(newerPts['PPR_adj'])**2)\n",
    "\n",
    "newerPts['PPR_adj']"
   ]
  },
  {
   "cell_type": "code",
   "execution_count": null,
   "metadata": {},
   "outputs": [],
   "source": []
  }
 ],
 "metadata": {
  "kernelspec": {
   "display_name": "Python 3.10.4 ('nlp_new2')",
   "language": "python",
   "name": "python3"
  },
  "language_info": {
   "codemirror_mode": {
    "name": "ipython",
    "version": 3
   },
   "file_extension": ".py",
   "mimetype": "text/x-python",
   "name": "python",
   "nbconvert_exporter": "python",
   "pygments_lexer": "ipython3",
   "version": "3.10.4"
  },
  "orig_nbformat": 4,
  "vscode": {
   "interpreter": {
    "hash": "1e08048f17ff008031266911b66a2ac7278627f8d3490a4b4484f3664274d5bf"
   }
  }
 },
 "nbformat": 4,
 "nbformat_minor": 2
}

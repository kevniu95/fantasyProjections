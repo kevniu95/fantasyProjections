{
 "cells": [
  {
   "cell_type": "code",
   "execution_count": 1,
   "metadata": {},
   "outputs": [],
   "source": [
    "import re\n",
    "import pickle\n",
    "import requests\n",
    "from datetime import datetime\n",
    "from bs4 import BeautifulSoup\n",
    "import pandas as pd"
   ]
  },
  {
   "cell_type": "markdown",
   "metadata": {},
   "source": [
    "### 1. Get Current Fantasy Points"
   ]
  },
  {
   "cell_type": "code",
   "execution_count": 2,
   "metadata": {},
   "outputs": [
    {
     "data": {
      "text/html": [
       "<div>\n",
       "<style scoped>\n",
       "    .dataframe tbody tr th:only-of-type {\n",
       "        vertical-align: middle;\n",
       "    }\n",
       "\n",
       "    .dataframe tbody tr th {\n",
       "        vertical-align: top;\n",
       "    }\n",
       "\n",
       "    .dataframe thead th {\n",
       "        text-align: right;\n",
       "    }\n",
       "</style>\n",
       "<table border=\"1\" class=\"dataframe\">\n",
       "  <thead>\n",
       "    <tr style=\"text-align: right;\">\n",
       "      <th></th>\n",
       "      <th>Player</th>\n",
       "      <th>Tm</th>\n",
       "      <th>FantPos</th>\n",
       "      <th>G</th>\n",
       "      <th>PPR</th>\n",
       "    </tr>\n",
       "  </thead>\n",
       "  <tbody>\n",
       "    <tr>\n",
       "      <th>0</th>\n",
       "      <td>Josh Jacobs</td>\n",
       "      <td>LVR</td>\n",
       "      <td>RB</td>\n",
       "      <td>13</td>\n",
       "      <td>282.8</td>\n",
       "    </tr>\n",
       "    <tr>\n",
       "      <th>1</th>\n",
       "      <td>Jalen Hurts</td>\n",
       "      <td>PHI</td>\n",
       "      <td>QB</td>\n",
       "      <td>13</td>\n",
       "      <td>334.9</td>\n",
       "    </tr>\n",
       "    <tr>\n",
       "      <th>2</th>\n",
       "      <td>Travis Kelce</td>\n",
       "      <td>KAN</td>\n",
       "      <td>TE</td>\n",
       "      <td>13</td>\n",
       "      <td>257.4</td>\n",
       "    </tr>\n",
       "    <tr>\n",
       "      <th>3</th>\n",
       "      <td>Patrick Mahomes</td>\n",
       "      <td>KAN</td>\n",
       "      <td>QB</td>\n",
       "      <td>13</td>\n",
       "      <td>320.4</td>\n",
       "    </tr>\n",
       "    <tr>\n",
       "      <th>4</th>\n",
       "      <td>Derrick Henry</td>\n",
       "      <td>TEN</td>\n",
       "      <td>RB</td>\n",
       "      <td>13</td>\n",
       "      <td>244.1</td>\n",
       "    </tr>\n",
       "    <tr>\n",
       "      <th>...</th>\n",
       "      <td>...</td>\n",
       "      <td>...</td>\n",
       "      <td>...</td>\n",
       "      <td>...</td>\n",
       "      <td>...</td>\n",
       "    </tr>\n",
       "    <tr>\n",
       "      <th>437</th>\n",
       "      <td>Quintin Morris</td>\n",
       "      <td>BUF</td>\n",
       "      <td>TE</td>\n",
       "      <td>11</td>\n",
       "      <td>12.0</td>\n",
       "    </tr>\n",
       "    <tr>\n",
       "      <th>438</th>\n",
       "      <td>Albert Okwuegbunam</td>\n",
       "      <td>DEN</td>\n",
       "      <td>TE</td>\n",
       "      <td>6</td>\n",
       "      <td>12.0</td>\n",
       "    </tr>\n",
       "    <tr>\n",
       "      <th>451</th>\n",
       "      <td>Chris Manhertz</td>\n",
       "      <td>JAX</td>\n",
       "      <td>TE</td>\n",
       "      <td>13</td>\n",
       "      <td>10.2</td>\n",
       "    </tr>\n",
       "    <tr>\n",
       "      <th>453</th>\n",
       "      <td>Kyle Philips</td>\n",
       "      <td>TEN</td>\n",
       "      <td>WR</td>\n",
       "      <td>4</td>\n",
       "      <td>11.8</td>\n",
       "    </tr>\n",
       "    <tr>\n",
       "      <th>454</th>\n",
       "      <td>James Proche</td>\n",
       "      <td>BAL</td>\n",
       "      <td>WR</td>\n",
       "      <td>11</td>\n",
       "      <td>12.2</td>\n",
       "    </tr>\n",
       "  </tbody>\n",
       "</table>\n",
       "<p>408 rows × 5 columns</p>\n",
       "</div>"
      ],
      "text/plain": [
       "                 Player   Tm FantPos   G    PPR\n",
       "0           Josh Jacobs  LVR      RB  13  282.8\n",
       "1           Jalen Hurts  PHI      QB  13  334.9\n",
       "2          Travis Kelce  KAN      TE  13  257.4\n",
       "3       Patrick Mahomes  KAN      QB  13  320.4\n",
       "4         Derrick Henry  TEN      RB  13  244.1\n",
       "..                  ...  ...     ...  ..    ...\n",
       "437      Quintin Morris  BUF      TE  11   12.0\n",
       "438  Albert Okwuegbunam  DEN      TE   6   12.0\n",
       "451      Chris Manhertz  JAX      TE  13   10.2\n",
       "453        Kyle Philips  TEN      WR   4   11.8\n",
       "454        James Proche  BAL      WR  11   12.2\n",
       "\n",
       "[408 rows x 5 columns]"
      ]
     },
     "execution_count": 2,
     "metadata": {},
     "output_type": "execute_result"
    }
   ],
   "source": [
    "pfr_fantasy_link = \"https://www.pro-football-reference.com/years/2022/fantasy.htm\"\n",
    "\n",
    "def getCurrentFantasyPoints(link):\n",
    "    info_dict = {'born' : None,\n",
    "                    'draft': None,\n",
    "                    'pos' : None}\n",
    "\n",
    "    page = requests.get(link)\n",
    "    if page.status_code == 200:\n",
    "        soup = BeautifulSoup(page.content, 'html.parser')\n",
    "    player_info  = soup.find_all('p')\n",
    "    \n",
    "    table = soup.find_all('table', id = 'fantasy')\n",
    "    df = pd.read_html(str(table), flavor = 'html5lib')[0]\n",
    "    df.columns = df.columns.get_level_values(1)\n",
    "    df = df[df['Player'] != 'Player'].copy()\n",
    "    df['PPR'] = pd.to_numeric(df['PPR'])\n",
    "    df['PPR'].fillna(0, inplace= True)\n",
    "\n",
    "    df.loc[df['Player'].str.contains('Etienne'), 'Player'] = 'Travis Etienne Jr.'\n",
    "    return df[df['PPR'] > 10].copy()\n",
    "\n",
    "currPts = getCurrentFantasyPoints(pfr_fantasy_link)\n",
    "currPts = currPts[['Player','Tm','FantPos','G','PPR']]\n",
    "currPts"
   ]
  },
  {
   "cell_type": "markdown",
   "metadata": {},
   "source": [
    "### 2. Get Projections"
   ]
  },
  {
   "cell_type": "markdown",
   "metadata": {},
   "source": [
    "##### 2a. My Projections"
   ]
  },
  {
   "cell_type": "code",
   "execution_count": 3,
   "metadata": {},
   "outputs": [],
   "source": [
    "with open('../projections/player_proj_2022.p', 'rb') as handle:\n",
    "    proj = pickle.load(handle)\n",
    "proj = proj[['Player','Tm','FantPos','PrvPts_PPR','AverageDraftPositionPPR','Preds','Preds_adp','Prob']]"
   ]
  },
  {
   "cell_type": "markdown",
   "metadata": {},
   "source": [
    "##### 2b. ESPN Projections"
   ]
  },
  {
   "cell_type": "code",
   "execution_count": 4,
   "metadata": {},
   "outputs": [
    {
     "name": "stdout",
     "output_type": "stream",
     "text": [
      "{'2TM': 9, 'BUF': 13, 'MIA': 13, 'NYJ': 13, 'NWE': 12, 'BAL': 13, 'CIN': 13, 'CLE': 13, 'PIT': 13, 'TEN': 13, 'JAX': 13, 'IND': 13, 'HOU': 13, 'KAN': 13, 'LAC': 13, 'LVR': 13, 'DEN': 13, 'PHI': 13, 'DAL': 13, 'WAS': 13, 'NYG': 13, 'MIN': 13, 'DET': 13, 'GNB': 13, 'CHI': 13, 'TAM': 13, 'CAR': 13, 'ATL': 13, 'NOR': 13, 'SFO': 13, 'SEA': 13, 'ARI': 12, 'LAR': 13}\n"
     ]
    }
   ],
   "source": [
    "# Games played dictionary\n",
    "page = requests.get(\"https://www.pro-football-reference.com/\")\n",
    "if page.status_code == 200:\n",
    "    soup = BeautifulSoup(page.content, 'html.parser')\n",
    "\n",
    "games_played = {'2TM' : 9}\n",
    "afc = soup.find('table', id = 'AFC')\n",
    "nfc  = soup.find('table', id = 'NFC')\n",
    "\n",
    "for conference in ['AFC', 'NFC']:    \n",
    "    conf = soup.find('table', id = conference)\n",
    "    for row in conf.find_all('tr'):\n",
    "        head = row.find_all('th', {'scope' : 'row'})\n",
    "        if len(head) > 0:\n",
    "            tm_name = re.sub('[^a-zA-Z]+', '', row.find('th').text)\n",
    "            cols = row.find_all('td')\n",
    "            gp = int(cols[0].text) + int(cols[1].text) + int(cols[2].text)\n",
    "            games_played[tm_name] = gp\n",
    "print(games_played)"
   ]
  },
  {
   "cell_type": "code",
   "execution_count": 5,
   "metadata": {},
   "outputs": [],
   "source": [
    "espn_to_pfr_dict = {'Ari':'ARI',\n",
    "                    'Atl': 'ATL',\n",
    "                    'Bal': 'BAL',\n",
    "                    'Buf': 'BUF',\n",
    "                    'Car': 'CAR',\n",
    "                    'Chi': 'CHI',\n",
    "                    'Cin': 'CIN',\n",
    "                    'Cle': 'CLE',\n",
    "                    'Dal': 'DAL',\n",
    "                    'Den': 'DEN',\n",
    "                    'Det': 'DET',\n",
    "                    'GB': 'GNB',\n",
    "                    'Hou': 'HOU',\n",
    "                    'Ind': 'IND',\n",
    "                    'Jax': 'JAX',\n",
    "                    'KC': 'KAN',\n",
    "                    'LAC': 'LAC',\n",
    "                    'LAR': 'LAR',\n",
    "                    'LV': 'LVR',\n",
    "                    'Mia': 'MIA',\n",
    "                    'Min': 'MIN',\n",
    "                    'NE': 'NWE',\n",
    "                    'NO': 'NOR',\n",
    "                    'NYG': 'NYG',\n",
    "                    'NYJ': 'NYJ',\n",
    "                    'Phi': 'PHI',\n",
    "                    'Pit': 'PIT',\n",
    "                    'Sea': 'SEA',\n",
    "                    'SF': 'SFO',\n",
    "                    'TB': 'TAM',\n",
    "                    'Ten': 'TEN',\n",
    "                    'Wsh': 'WAS'}\n"
   ]
  },
  {
   "cell_type": "code",
   "execution_count": 6,
   "metadata": {},
   "outputs": [],
   "source": [
    "def getESPNprojs(link = '../projections/projections_espn.xlsx'):\n",
    "    proj_espn = pd.read_excel(link, sheet_name = 'projections', usecols = \"A:E\")\n",
    "    proj_espn['Tm'] = proj_espn['Tm'].replace(espn_to_pfr_dict)\n",
    "    proj_espn.drop('TeamPosition', axis = 1, inplace = True)\n",
    "    proj_espn['Points'] = pd.to_numeric(proj_espn['Points'], errors = 'coerce')\n",
    "    proj_espn['Points'].fillna(0)\n",
    "    return proj_espn\n",
    "\n",
    "proj_espn = getESPNprojs()"
   ]
  },
  {
   "cell_type": "code",
   "execution_count": 7,
   "metadata": {},
   "outputs": [],
   "source": [
    "def mergeProjections(currPts, proj, proj_espn):\n",
    "    \"\"\" 1. Merge on my projections \"\"\"\n",
    "    newPts = currPts.merge(proj, on = ['Player', 'Tm', 'FantPos'], how = 'left', indicator = True)\n",
    "    # print(newPts.loc[newPts['_merge']!='both'].sort_values('PPR',ascending = False))\n",
    "    newPts.loc[newPts['_merge']!='both', 'Preds'] = 0\n",
    "\n",
    "    \"\"\" 2. Merge on ESPN projections\"\"\"\n",
    "    newerPts = newPts.merge(proj_espn, left_on= ['Player','Tm','FantPos'], right_on = ['Player','Tm','Position'],  how='left', indicator = 'espn')\n",
    "    # print(newerPts['espn'].value_counts())\n",
    "    newerPts[newerPts['espn'] == 'left_only'].sort_values('PPR', ascending = False)\n",
    "\n",
    "    \"\"\" 3. Mark guys without projections\"\"\"\n",
    "    newerPts.loc[newerPts['_merge']!= 'both', 'Preds'] = 10\n",
    "    newerPts.loc[newerPts['espn']!= 'both', 'Points'] = 10\n",
    "    \n",
    "    \"\"\" 4. Prorate PPR metric so far\"\"\"\n",
    "    newerPts['GP'] = pd.to_numeric(newerPts['Tm'].replace(games_played))\n",
    "    newerPts['PPR_adj'] = newerPts['PPR'] / newerPts['GP'] * 17\n",
    "\n",
    "    newerPts.rename(columns = {'Points' : 'Points_ESPN'}, inplace = True)\n",
    "    return newerPts\n",
    "newerPts = mergeProjections(currPts, proj, proj_espn)\n",
    "newerPts\n",
    "newerPts.to_excel('test.xlsx')"
   ]
  },
  {
   "cell_type": "code",
   "execution_count": 8,
   "metadata": {},
   "outputs": [
    {
     "data": {
      "text/plain": [
       "0"
      ]
     },
     "execution_count": 8,
     "metadata": {},
     "output_type": "execute_result"
    }
   ],
   "source": [
    "newerPts['Points_ESPN'].isnull().sum()"
   ]
  },
  {
   "cell_type": "code",
   "execution_count": 9,
   "metadata": {},
   "outputs": [
    {
     "name": "stdout",
     "output_type": "stream",
     "text": [
      "0.5210177501364566\n",
      "0.49882647420822473\n",
      "0.5228179540616519\n"
     ]
    },
    {
     "data": {
      "text/plain": [
       "0      369.815385\n",
       "1      437.946154\n",
       "2      336.600000\n",
       "3      418.984615\n",
       "4      319.207692\n",
       "          ...    \n",
       "403     15.692308\n",
       "404     15.692308\n",
       "405     13.338462\n",
       "406     15.430769\n",
       "407     15.953846\n",
       "Name: PPR_adj, Length: 408, dtype: float64"
      ]
     },
     "execution_count": 9,
     "metadata": {},
     "output_type": "execute_result"
    }
   ],
   "source": [
    "from sklearn.metrics import r2_score\n",
    "\n",
    "print(newerPts['Preds'].corr(newerPts['PPR_adj'])**2)\n",
    "print(newerPts['Points_ESPN'].corr(newerPts['PPR_adj'])**2)\n",
    "print(newerPts['Preds_adp'].corr(newerPts['PPR_adj'])**2)\n",
    "\n",
    "newerPts['PPR_adj']"
   ]
  },
  {
   "cell_type": "code",
   "execution_count": null,
   "metadata": {},
   "outputs": [],
   "source": []
  }
 ],
 "metadata": {
  "kernelspec": {
   "display_name": "nlp_new2",
   "language": "python",
   "name": "python3"
  },
  "language_info": {
   "codemirror_mode": {
    "name": "ipython",
    "version": 3
   },
   "file_extension": ".py",
   "mimetype": "text/x-python",
   "name": "python",
   "nbconvert_exporter": "python",
   "pygments_lexer": "ipython3",
   "version": "3.10.4"
  },
  "orig_nbformat": 4,
  "vscode": {
   "interpreter": {
    "hash": "1e08048f17ff008031266911b66a2ac7278627f8d3490a4b4484f3664274d5bf"
   }
  }
 },
 "nbformat": 4,
 "nbformat_minor": 2
}
